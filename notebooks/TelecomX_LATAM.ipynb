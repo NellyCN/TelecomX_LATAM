{
  "cells": [
    {
      "cell_type": "markdown",
      "metadata": {
        "id": "4foVEKhrlqcH"
      },
      "source": [
        "#📌 Extracción"
      ]
    },
    {
      "cell_type": "code",
      "execution_count": 3,
      "metadata": {
        "id": "1--uPM88l7JH"
      },
      "outputs": [],
      "source": [
        "# Import principal and necessary libraries\n",
        "import pandas as pd\n",
        "import numpy as np\n",
        "import matplotlib.pyplot as plt\n",
        "import seaborn as sns\n",
        "\n",
        "# Set the style for seaborn and matplotlib\n",
        "sns.set(style=\"whitegrid\")\n",
        "plt.rcParams['figure.figsize'] = (10, 6)\n",
        "\n",
        "# Show all columns in DataFrame output\n",
        "pd.set_option('display.max_columns', None)"
      ]
    },
    {
      "cell_type": "code",
      "execution_count": 5,
      "metadata": {},
      "outputs": [
        {
          "data": {
            "text/html": [
              "<div>\n",
              "<style scoped>\n",
              "    .dataframe tbody tr th:only-of-type {\n",
              "        vertical-align: middle;\n",
              "    }\n",
              "\n",
              "    .dataframe tbody tr th {\n",
              "        vertical-align: top;\n",
              "    }\n",
              "\n",
              "    .dataframe thead th {\n",
              "        text-align: right;\n",
              "    }\n",
              "</style>\n",
              "<table border=\"1\" class=\"dataframe\">\n",
              "  <thead>\n",
              "    <tr style=\"text-align: right;\">\n",
              "      <th></th>\n",
              "      <th>customerID</th>\n",
              "      <th>Churn</th>\n",
              "      <th>customer</th>\n",
              "      <th>phone</th>\n",
              "      <th>internet</th>\n",
              "      <th>account</th>\n",
              "    </tr>\n",
              "  </thead>\n",
              "  <tbody>\n",
              "    <tr>\n",
              "      <th>0</th>\n",
              "      <td>0002-ORFBO</td>\n",
              "      <td>No</td>\n",
              "      <td>{'gender': 'Female', 'SeniorCitizen': 0, 'Part...</td>\n",
              "      <td>{'PhoneService': 'Yes', 'MultipleLines': 'No'}</td>\n",
              "      <td>{'InternetService': 'DSL', 'OnlineSecurity': '...</td>\n",
              "      <td>{'Contract': 'One year', 'PaperlessBilling': '...</td>\n",
              "    </tr>\n",
              "    <tr>\n",
              "      <th>1</th>\n",
              "      <td>0003-MKNFE</td>\n",
              "      <td>No</td>\n",
              "      <td>{'gender': 'Male', 'SeniorCitizen': 0, 'Partne...</td>\n",
              "      <td>{'PhoneService': 'Yes', 'MultipleLines': 'Yes'}</td>\n",
              "      <td>{'InternetService': 'DSL', 'OnlineSecurity': '...</td>\n",
              "      <td>{'Contract': 'Month-to-month', 'PaperlessBilli...</td>\n",
              "    </tr>\n",
              "    <tr>\n",
              "      <th>2</th>\n",
              "      <td>0004-TLHLJ</td>\n",
              "      <td>Yes</td>\n",
              "      <td>{'gender': 'Male', 'SeniorCitizen': 0, 'Partne...</td>\n",
              "      <td>{'PhoneService': 'Yes', 'MultipleLines': 'No'}</td>\n",
              "      <td>{'InternetService': 'Fiber optic', 'OnlineSecu...</td>\n",
              "      <td>{'Contract': 'Month-to-month', 'PaperlessBilli...</td>\n",
              "    </tr>\n",
              "    <tr>\n",
              "      <th>3</th>\n",
              "      <td>0011-IGKFF</td>\n",
              "      <td>Yes</td>\n",
              "      <td>{'gender': 'Male', 'SeniorCitizen': 1, 'Partne...</td>\n",
              "      <td>{'PhoneService': 'Yes', 'MultipleLines': 'No'}</td>\n",
              "      <td>{'InternetService': 'Fiber optic', 'OnlineSecu...</td>\n",
              "      <td>{'Contract': 'Month-to-month', 'PaperlessBilli...</td>\n",
              "    </tr>\n",
              "    <tr>\n",
              "      <th>4</th>\n",
              "      <td>0013-EXCHZ</td>\n",
              "      <td>Yes</td>\n",
              "      <td>{'gender': 'Female', 'SeniorCitizen': 1, 'Part...</td>\n",
              "      <td>{'PhoneService': 'Yes', 'MultipleLines': 'No'}</td>\n",
              "      <td>{'InternetService': 'Fiber optic', 'OnlineSecu...</td>\n",
              "      <td>{'Contract': 'Month-to-month', 'PaperlessBilli...</td>\n",
              "    </tr>\n",
              "  </tbody>\n",
              "</table>\n",
              "</div>"
            ],
            "text/plain": [
              "   customerID Churn                                           customer  \\\n",
              "0  0002-ORFBO    No  {'gender': 'Female', 'SeniorCitizen': 0, 'Part...   \n",
              "1  0003-MKNFE    No  {'gender': 'Male', 'SeniorCitizen': 0, 'Partne...   \n",
              "2  0004-TLHLJ   Yes  {'gender': 'Male', 'SeniorCitizen': 0, 'Partne...   \n",
              "3  0011-IGKFF   Yes  {'gender': 'Male', 'SeniorCitizen': 1, 'Partne...   \n",
              "4  0013-EXCHZ   Yes  {'gender': 'Female', 'SeniorCitizen': 1, 'Part...   \n",
              "\n",
              "                                             phone  \\\n",
              "0   {'PhoneService': 'Yes', 'MultipleLines': 'No'}   \n",
              "1  {'PhoneService': 'Yes', 'MultipleLines': 'Yes'}   \n",
              "2   {'PhoneService': 'Yes', 'MultipleLines': 'No'}   \n",
              "3   {'PhoneService': 'Yes', 'MultipleLines': 'No'}   \n",
              "4   {'PhoneService': 'Yes', 'MultipleLines': 'No'}   \n",
              "\n",
              "                                            internet  \\\n",
              "0  {'InternetService': 'DSL', 'OnlineSecurity': '...   \n",
              "1  {'InternetService': 'DSL', 'OnlineSecurity': '...   \n",
              "2  {'InternetService': 'Fiber optic', 'OnlineSecu...   \n",
              "3  {'InternetService': 'Fiber optic', 'OnlineSecu...   \n",
              "4  {'InternetService': 'Fiber optic', 'OnlineSecu...   \n",
              "\n",
              "                                             account  \n",
              "0  {'Contract': 'One year', 'PaperlessBilling': '...  \n",
              "1  {'Contract': 'Month-to-month', 'PaperlessBilli...  \n",
              "2  {'Contract': 'Month-to-month', 'PaperlessBilli...  \n",
              "3  {'Contract': 'Month-to-month', 'PaperlessBilli...  \n",
              "4  {'Contract': 'Month-to-month', 'PaperlessBilli...  "
            ]
          },
          "execution_count": 5,
          "metadata": {},
          "output_type": "execute_result"
        }
      ],
      "source": [
        "import os\n",
        "\n",
        "# Cargar el JSON con la ruta relativa\n",
        "ruta_json = os.path.join('..', 'data', 'TelecomX_Data.json')\n",
        "df = pd.read_json(ruta_json)\n",
        "\n",
        "# Mostrar las primeras filas\n",
        "df.head()"
      ]
    },
    {
      "cell_type": "code",
      "execution_count": 6,
      "metadata": {},
      "outputs": [
        {
          "name": "stdout",
          "output_type": "stream",
          "text": [
            "Filas, Columnas: (7267, 6)\n",
            "<class 'pandas.core.frame.DataFrame'>\n",
            "RangeIndex: 7267 entries, 0 to 7266\n",
            "Data columns (total 6 columns):\n",
            " #   Column      Non-Null Count  Dtype \n",
            "---  ------      --------------  ----- \n",
            " 0   customerID  7267 non-null   object\n",
            " 1   Churn       7267 non-null   object\n",
            " 2   customer    7267 non-null   object\n",
            " 3   phone       7267 non-null   object\n",
            " 4   internet    7267 non-null   object\n",
            " 5   account     7267 non-null   object\n",
            "dtypes: object(6)\n",
            "memory usage: 340.8+ KB\n"
          ]
        },
        {
          "data": {
            "text/plain": [
              "customerID    object\n",
              "Churn         object\n",
              "customer      object\n",
              "phone         object\n",
              "internet      object\n",
              "account       object\n",
              "dtype: object"
            ]
          },
          "execution_count": 6,
          "metadata": {},
          "output_type": "execute_result"
        }
      ],
      "source": [
        "# Tamaño del DataFrame\n",
        "print(\"Filas, Columnas:\", df.shape)\n",
        "\n",
        "# Información general\n",
        "df.info()\n",
        "\n",
        "# Tipos de datos\n",
        "df.dtypes\n"
      ]
    },
    {
      "cell_type": "code",
      "execution_count": 7,
      "metadata": {},
      "outputs": [
        {
          "name": "stdout",
          "output_type": "stream",
          "text": [
            "columna 'internet':\n",
            " {'InternetService': 'DSL', 'OnlineSecurity': 'No', 'OnlineBackup': 'Yes', 'DeviceProtection': 'No', 'TechSupport': 'Yes', 'StreamingTV': 'Yes', 'StreamingMovies': 'No'} \n",
            "\n",
            "columna 'account':\n",
            " {'Contract': 'One year', 'PaperlessBilling': 'Yes', 'PaymentMethod': 'Mailed check', 'Charges': {'Monthly': 65.6, 'Total': '593.3'}} \n",
            "\n"
          ]
        }
      ],
      "source": [
        "# Mostrar ejemplos de columnas específicas\n",
        "print(\"columna 'internet':\\n\", df[\"internet\"].iloc[0], \"\\n\")\n",
        "print(\"columna 'account':\\n\", df[\"account\"].iloc[0], \"\\n\")"
      ]
    },
    {
      "cell_type": "code",
      "execution_count": 8,
      "metadata": {},
      "outputs": [
        {
          "name": "stdout",
          "output_type": "stream",
          "text": [
            "Shape limpio: (7267, 21)\n"
          ]
        },
        {
          "data": {
            "text/html": [
              "<div>\n",
              "<style scoped>\n",
              "    .dataframe tbody tr th:only-of-type {\n",
              "        vertical-align: middle;\n",
              "    }\n",
              "\n",
              "    .dataframe tbody tr th {\n",
              "        vertical-align: top;\n",
              "    }\n",
              "\n",
              "    .dataframe thead th {\n",
              "        text-align: right;\n",
              "    }\n",
              "</style>\n",
              "<table border=\"1\" class=\"dataframe\">\n",
              "  <thead>\n",
              "    <tr style=\"text-align: right;\">\n",
              "      <th></th>\n",
              "      <th>customerID</th>\n",
              "      <th>Churn</th>\n",
              "      <th>gender</th>\n",
              "      <th>SeniorCitizen</th>\n",
              "      <th>Partner</th>\n",
              "      <th>Dependents</th>\n",
              "      <th>tenure</th>\n",
              "      <th>PhoneService</th>\n",
              "      <th>MultipleLines</th>\n",
              "      <th>InternetService</th>\n",
              "      <th>OnlineSecurity</th>\n",
              "      <th>OnlineBackup</th>\n",
              "      <th>DeviceProtection</th>\n",
              "      <th>TechSupport</th>\n",
              "      <th>StreamingTV</th>\n",
              "      <th>StreamingMovies</th>\n",
              "      <th>Contract</th>\n",
              "      <th>PaperlessBilling</th>\n",
              "      <th>PaymentMethod</th>\n",
              "      <th>Charges.Monthly</th>\n",
              "      <th>Charges.Total</th>\n",
              "    </tr>\n",
              "  </thead>\n",
              "  <tbody>\n",
              "    <tr>\n",
              "      <th>0</th>\n",
              "      <td>0002-ORFBO</td>\n",
              "      <td>No</td>\n",
              "      <td>Female</td>\n",
              "      <td>0</td>\n",
              "      <td>Yes</td>\n",
              "      <td>Yes</td>\n",
              "      <td>9</td>\n",
              "      <td>Yes</td>\n",
              "      <td>No</td>\n",
              "      <td>DSL</td>\n",
              "      <td>No</td>\n",
              "      <td>Yes</td>\n",
              "      <td>No</td>\n",
              "      <td>Yes</td>\n",
              "      <td>Yes</td>\n",
              "      <td>No</td>\n",
              "      <td>One year</td>\n",
              "      <td>Yes</td>\n",
              "      <td>Mailed check</td>\n",
              "      <td>65.6</td>\n",
              "      <td>593.3</td>\n",
              "    </tr>\n",
              "    <tr>\n",
              "      <th>1</th>\n",
              "      <td>0003-MKNFE</td>\n",
              "      <td>No</td>\n",
              "      <td>Male</td>\n",
              "      <td>0</td>\n",
              "      <td>No</td>\n",
              "      <td>No</td>\n",
              "      <td>9</td>\n",
              "      <td>Yes</td>\n",
              "      <td>Yes</td>\n",
              "      <td>DSL</td>\n",
              "      <td>No</td>\n",
              "      <td>No</td>\n",
              "      <td>No</td>\n",
              "      <td>No</td>\n",
              "      <td>No</td>\n",
              "      <td>Yes</td>\n",
              "      <td>Month-to-month</td>\n",
              "      <td>No</td>\n",
              "      <td>Mailed check</td>\n",
              "      <td>59.9</td>\n",
              "      <td>542.4</td>\n",
              "    </tr>\n",
              "    <tr>\n",
              "      <th>2</th>\n",
              "      <td>0004-TLHLJ</td>\n",
              "      <td>Yes</td>\n",
              "      <td>Male</td>\n",
              "      <td>0</td>\n",
              "      <td>No</td>\n",
              "      <td>No</td>\n",
              "      <td>4</td>\n",
              "      <td>Yes</td>\n",
              "      <td>No</td>\n",
              "      <td>Fiber optic</td>\n",
              "      <td>No</td>\n",
              "      <td>No</td>\n",
              "      <td>Yes</td>\n",
              "      <td>No</td>\n",
              "      <td>No</td>\n",
              "      <td>No</td>\n",
              "      <td>Month-to-month</td>\n",
              "      <td>Yes</td>\n",
              "      <td>Electronic check</td>\n",
              "      <td>73.9</td>\n",
              "      <td>280.85</td>\n",
              "    </tr>\n",
              "    <tr>\n",
              "      <th>3</th>\n",
              "      <td>0011-IGKFF</td>\n",
              "      <td>Yes</td>\n",
              "      <td>Male</td>\n",
              "      <td>1</td>\n",
              "      <td>Yes</td>\n",
              "      <td>No</td>\n",
              "      <td>13</td>\n",
              "      <td>Yes</td>\n",
              "      <td>No</td>\n",
              "      <td>Fiber optic</td>\n",
              "      <td>No</td>\n",
              "      <td>Yes</td>\n",
              "      <td>Yes</td>\n",
              "      <td>No</td>\n",
              "      <td>Yes</td>\n",
              "      <td>Yes</td>\n",
              "      <td>Month-to-month</td>\n",
              "      <td>Yes</td>\n",
              "      <td>Electronic check</td>\n",
              "      <td>98.0</td>\n",
              "      <td>1237.85</td>\n",
              "    </tr>\n",
              "    <tr>\n",
              "      <th>4</th>\n",
              "      <td>0013-EXCHZ</td>\n",
              "      <td>Yes</td>\n",
              "      <td>Female</td>\n",
              "      <td>1</td>\n",
              "      <td>Yes</td>\n",
              "      <td>No</td>\n",
              "      <td>3</td>\n",
              "      <td>Yes</td>\n",
              "      <td>No</td>\n",
              "      <td>Fiber optic</td>\n",
              "      <td>No</td>\n",
              "      <td>No</td>\n",
              "      <td>No</td>\n",
              "      <td>Yes</td>\n",
              "      <td>Yes</td>\n",
              "      <td>No</td>\n",
              "      <td>Month-to-month</td>\n",
              "      <td>Yes</td>\n",
              "      <td>Mailed check</td>\n",
              "      <td>83.9</td>\n",
              "      <td>267.4</td>\n",
              "    </tr>\n",
              "  </tbody>\n",
              "</table>\n",
              "</div>"
            ],
            "text/plain": [
              "   customerID Churn  gender  SeniorCitizen Partner Dependents  tenure  \\\n",
              "0  0002-ORFBO    No  Female              0     Yes        Yes       9   \n",
              "1  0003-MKNFE    No    Male              0      No         No       9   \n",
              "2  0004-TLHLJ   Yes    Male              0      No         No       4   \n",
              "3  0011-IGKFF   Yes    Male              1     Yes         No      13   \n",
              "4  0013-EXCHZ   Yes  Female              1     Yes         No       3   \n",
              "\n",
              "  PhoneService MultipleLines InternetService OnlineSecurity OnlineBackup  \\\n",
              "0          Yes            No             DSL             No          Yes   \n",
              "1          Yes           Yes             DSL             No           No   \n",
              "2          Yes            No     Fiber optic             No           No   \n",
              "3          Yes            No     Fiber optic             No          Yes   \n",
              "4          Yes            No     Fiber optic             No           No   \n",
              "\n",
              "  DeviceProtection TechSupport StreamingTV StreamingMovies        Contract  \\\n",
              "0               No         Yes         Yes              No        One year   \n",
              "1               No          No          No             Yes  Month-to-month   \n",
              "2              Yes          No          No              No  Month-to-month   \n",
              "3              Yes          No         Yes             Yes  Month-to-month   \n",
              "4               No         Yes         Yes              No  Month-to-month   \n",
              "\n",
              "  PaperlessBilling     PaymentMethod  Charges.Monthly Charges.Total  \n",
              "0              Yes      Mailed check             65.6         593.3  \n",
              "1               No      Mailed check             59.9         542.4  \n",
              "2              Yes  Electronic check             73.9        280.85  \n",
              "3              Yes  Electronic check             98.0       1237.85  \n",
              "4              Yes      Mailed check             83.9         267.4  "
            ]
          },
          "execution_count": 8,
          "metadata": {},
          "output_type": "execute_result"
        }
      ],
      "source": [
        "# Desanidar cada columna compleja\n",
        "internet_df  = pd.json_normalize(df['internet'])\n",
        "account_df   = pd.json_normalize(df['account'])\n",
        "customer_df  = pd.json_normalize(df['customer'])\n",
        "phone_df     = pd.json_normalize(df['phone'])\n",
        "\n",
        "# Columnas clave que NO se desanidan\n",
        "base_cols = df[['customerID', 'Churn']]\n",
        "\n",
        "# Unimos todo en un solo DataFrame limpio\n",
        "df_clean = pd.concat([base_cols,\n",
        "                      customer_df,\n",
        "                      phone_df,\n",
        "                      internet_df,\n",
        "                      account_df],\n",
        "                     axis=1)\n",
        "\n",
        "print(\"Shape limpio:\", df_clean.shape)\n",
        "df_clean.head()\n"
      ]
    },
    {
      "cell_type": "code",
      "execution_count": 9,
      "metadata": {},
      "outputs": [
        {
          "name": "stdout",
          "output_type": "stream",
          "text": [
            "Churn\n",
            "No     5174\n",
            "Yes    1869\n",
            "        224\n",
            "Name: count, dtype: int64 \n",
            "\n"
          ]
        },
        {
          "data": {
            "text/plain": [
              "customerID         0\n",
              "Churn              0\n",
              "gender             0\n",
              "SeniorCitizen      0\n",
              "Partner            0\n",
              "Dependents         0\n",
              "tenure             0\n",
              "PhoneService       0\n",
              "MultipleLines      0\n",
              "InternetService    0\n",
              "dtype: int64"
            ]
          },
          "execution_count": 9,
          "metadata": {},
          "output_type": "execute_result"
        }
      ],
      "source": [
        "# Distribución de la variable objetivo\n",
        "print(df_clean['Churn'].value_counts(), \"\\n\")\n",
        "\n",
        "# Valores nulos por columna (top 10)\n",
        "df_clean.isna().sum().sort_values(ascending=False).head(10)\n"
      ]
    },
    {
      "cell_type": "code",
      "execution_count": 10,
      "metadata": {},
      "outputs": [],
      "source": [
        "# Guardar el DataFrame limpio como CSV\n",
        "df_clean.to_csv(\"../data/TelecomX_clean.csv\", index=False)\n"
      ]
    },
    {
      "cell_type": "markdown",
      "metadata": {
        "id": "1lSZP8zmmGZu"
      },
      "source": [
        "#🔧 Transformación"
      ]
    },
    {
      "cell_type": "code",
      "execution_count": null,
      "metadata": {
        "id": "bsm-WTLjmHvt"
      },
      "outputs": [],
      "source": []
    },
    {
      "cell_type": "markdown",
      "metadata": {
        "id": "6XnTC2NTmMRL"
      },
      "source": [
        "#📊 Carga y análisis"
      ]
    },
    {
      "cell_type": "code",
      "execution_count": null,
      "metadata": {
        "id": "1jgUnLqTmPdd"
      },
      "outputs": [],
      "source": []
    },
    {
      "cell_type": "markdown",
      "metadata": {
        "id": "v-WzfSvTmaw9"
      },
      "source": [
        "#📄Informe final"
      ]
    },
    {
      "cell_type": "code",
      "execution_count": null,
      "metadata": {
        "id": "XMTac0YJmeK9"
      },
      "outputs": [],
      "source": []
    }
  ],
  "metadata": {
    "colab": {
      "provenance": []
    },
    "kernelspec": {
      "display_name": "venv (3.12.0)",
      "language": "python",
      "name": "python3"
    },
    "language_info": {
      "codemirror_mode": {
        "name": "ipython",
        "version": 3
      },
      "file_extension": ".py",
      "mimetype": "text/x-python",
      "name": "python",
      "nbconvert_exporter": "python",
      "pygments_lexer": "ipython3",
      "version": "3.12.0"
    }
  },
  "nbformat": 4,
  "nbformat_minor": 0
}
